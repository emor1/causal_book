{
 "cells": [
  {
   "cell_type": "markdown",
   "metadata": {},
   "source": [
    "# 疑似相関の確認"
   ]
  },
  {
   "cell_type": "code",
   "execution_count": 1,
   "metadata": {},
   "outputs": [],
   "source": [
    "import random\n",
    "import numpy as np\n",
    "\n",
    "random.seed(1234)\n",
    "np.random.seed(1234)"
   ]
  },
  {
   "cell_type": "code",
   "execution_count": 3,
   "metadata": {},
   "outputs": [],
   "source": [
    "import scipy.stats\n",
    "\n",
    "from numpy.random import randn\n",
    "import matplotlib.pyplot as plt\n",
    "%matplotlib inline"
   ]
  },
  {
   "cell_type": "markdown",
   "metadata": {},
   "source": [
    "## ZからYへ因果が存在する場合\n",
    "\n",
    "変数Z&rarr;変数Y"
   ]
  },
  {
   "cell_type": "code",
   "execution_count": 6,
   "metadata": {},
   "outputs": [
    {
     "data": {
      "text/plain": [
       "array([[1.       , 0.8599333],\n",
       "       [0.8599333, 1.       ]])"
      ]
     },
     "execution_count": 6,
     "metadata": {},
     "output_type": "execute_result"
    }
   ],
   "source": [
    "# ノイズを生成\n",
    "num_data = 200\n",
    "e_z = randn(num_data)\n",
    "e_y = randn(num_data)\n",
    "\n",
    "# データの生成\n",
    "Z = e_z\n",
    "Y = 2*Z + e_y   #ここにZの値が影響している＝＞相関がある\n",
    "\n",
    "# ZとYの相関関係を求める\n",
    "np.corrcoef(Z, Y)"
   ]
  },
  {
   "cell_type": "code",
   "execution_count": 5,
   "metadata": {},
   "outputs": [
    {
     "data": {
      "text/plain": [
       "<matplotlib.collections.PathCollection at 0x2039cb6cc48>"
      ]
     },
     "execution_count": 5,
     "metadata": {},
     "output_type": "execute_result"
    },
    {
     "data": {
      "image/png": "[encoded data removed]",
      "text/plain": [
       "<Figure size 432x288 with 1 Axes>"
      ]
     },
     "metadata": {
      "needs_background": "light"
     },
     "output_type": "display_data"
    }
   ],
   "source": [
    "# 標準化\n",
    "Z_std = scipy.stats.zscore(Z)\n",
    "Y_std = scipy.stats.zscore(Y)\n",
    "\n",
    "# 散布図を描画\n",
    "plt.scatter(Z_std,Y_std)"
   ]
  },
  {
   "cell_type": "markdown",
   "metadata": {},
   "source": []
  },
  {
   "cell_type": "markdown",
   "metadata": {},
   "source": [
    "## 疑似相関：因果が逆"
   ]
  },
  {
   "cell_type": "code",
   "execution_count": 7,
   "metadata": {},
   "outputs": [
    {
     "data": {
      "text/plain": [
       "array([[1.        , 0.90116266],\n",
       "       [0.90116266, 1.        ]])"
      ]
     },
     "execution_count": 7,
     "metadata": {},
     "output_type": "execute_result"
    }
   ],
   "source": [
    "# ノイズを生成\n",
    "num_data = 200\n",
    "e_z = randn(num_data)\n",
    "e_y = randn(num_data)\n",
    "\n",
    "# データの生成\n",
    "Y = e_y\n",
    "Z = 2*Y + e_z   #ここにZの値が影響している＝＞相関がある\n",
    "\n",
    "# ZとYの相関関係を求める\n",
    "np.corrcoef(Z, Y)"
   ]
  },
  {
   "cell_type": "code",
   "execution_count": 8,
   "metadata": {},
   "outputs": [
    {
     "data": {
      "text/plain": [
       "<matplotlib.collections.PathCollection at 0x2039ed9c288>"
      ]
     },
     "execution_count": 8,
     "metadata": {},
     "output_type": "execute_result"
    },
    {
     "data": {
      "image/png": "[encoded data removed]",
      "text/plain": [
       "<Figure size 432x288 with 1 Axes>"
      ]
     },
     "metadata": {
      "needs_background": "light"
     },
     "output_type": "display_data"
    }
   ],
   "source": [
    "# 標準化\n",
    "Z_std = scipy.stats.zscore(Z)\n",
    "Y_std = scipy.stats.zscore(Y)\n",
    "\n",
    "# 散布図を描画\n",
    "plt.scatter(Z_std,Y_std)"
   ]
  },
  {
   "cell_type": "markdown",
   "metadata": {},
   "source": [
    "横軸：Z、縦軸：Y  \n",
    "**因果関係が逆でも相関係数が大きい場合があり**、**データの見た目からは因果関係の向きを読み取れない**"
   ]
  },
  {
   "cell_type": "markdown",
   "metadata": {},
   "source": [
    "## 疑似相関：共通の原因"
   ]
  },
  {
   "cell_type": "markdown",
   "metadata": {},
   "source": []
  }
 ],
 "metadata": {
  "interpreter": {
   "hash": "c0ecf4186e60a2301b453bf4db48717d0cc833017de4baa91d4f5e0133a76b59"
  },
  "kernelspec": {
   "display_name": "Python 3.7.9 ('.causal_book': venv)",
   "language": "python",
   "name": "python3"
  },
  "language_info": {
   "codemirror_mode": {
    "name": "ipython",
    "version": 3
   },
   "file_extension": ".py",
   "mimetype": "text/x-python",
   "name": "python",
   "nbconvert_exporter": "python",
   "pygments_lexer": "ipython3",
   "version": "3.7.9"
  },
  "orig_nbformat": 4
 },
 "nbformat": 4,
 "nbformat_minor": 2
}
