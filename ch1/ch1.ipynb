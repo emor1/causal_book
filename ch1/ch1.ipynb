{
 "cells": [
  {
   "cell_type": "markdown",
   "metadata": {},
   "source": [
    "# 疑似相関の確認"
   ]
  },
  {
   "cell_type": "code",
   "execution_count": 1,
   "metadata": {},
   "outputs": [],
   "source": [
    "import random\n",
    "import numpy as np\n",
    "\n",
    "random.seed(1234)\n",
    "np.random.seed(1234)"
   ]
  },
  {
   "cell_type": "code",
   "execution_count": 2,
   "metadata": {},
   "outputs": [],
   "source": [
    "import scipy.stats\n",
    "\n",
    "from numpy.random import randn\n",
    "import matplotlib.pyplot as plt\n",
    "%matplotlib inline"
   ]
  },
  {
   "cell_type": "markdown",
   "metadata": {},
   "source": [
    "## ZからYへ因果が存在する場合\n",
    "\n",
    "変数Z&rarr;変数Y"
   ]
  },
  {
   "cell_type": "code",
   "execution_count": 3,
   "metadata": {},
   "outputs": [
    {
     "data": {
      "text/plain": [
       "array([[1.        , 0.89379611],\n",
       "       [0.89379611, 1.        ]])"
      ]
     },
     "execution_count": 3,
     "metadata": {},
     "output_type": "execute_result"
    }
   ],
   "source": [
    "# ノイズを生成\n",
    "num_data = 200\n",
    "e_z = randn(num_data)\n",
    "e_y = randn(num_data)\n",
    "\n",
    "# データの生成\n",
    "Z = e_z\n",
    "Y = 2*Z + e_y   #ここにZの値が影響している＝＞相関がある\n",
    "\n",
    "# ZとYの相関関係を求める\n",
    "np.corrcoef(Z, Y)"
   ]
  },
  {
   "cell_type": "code",
   "execution_count": 4,
   "metadata": {},
   "outputs": [
    {
     "data": {
      "text/plain": [
       "<matplotlib.collections.PathCollection at 0x23d5779e708>"
      ]
     },
     "execution_count": 4,
     "metadata": {},
     "output_type": "execute_result"
    },
    {
     "data": {
      "image/png": "[encoded data removed]",
      "text/plain": [
       "<Figure size 432x288 with 1 Axes>"
      ]
     },
     "metadata": {
      "needs_background": "light"
     },
     "output_type": "display_data"
    }
   ],
   "source": [
    "# 標準化\n",
    "Z_std = scipy.stats.zscore(Z)\n",
    "Y_std = scipy.stats.zscore(Y)\n",
    "\n",
    "# 散布図を描画\n",
    "plt.scatter(Z_std,Y_std)"
   ]
  },
  {
   "cell_type": "markdown",
   "metadata": {},
   "source": []
  },
  {
   "cell_type": "markdown",
   "metadata": {},
   "source": [
    "## 疑似相関：因果が逆"
   ]
  },
  {
   "cell_type": "code",
   "execution_count": 5,
   "metadata": {},
   "outputs": [
    {
     "data": {
      "text/plain": [
       "array([[1.        , 0.90390263],\n",
       "       [0.90390263, 1.        ]])"
      ]
     },
     "execution_count": 5,
     "metadata": {},
     "output_type": "execute_result"
    }
   ],
   "source": [
    "# ノイズを生成\n",
    "num_data = 200\n",
    "e_z = randn(num_data)\n",
    "e_y = randn(num_data)\n",
    "\n",
    "# データの生成\n",
    "Y = e_y\n",
    "Z = 2*Y + e_z   #ここにZの値が影響している＝＞相関がある\n",
    "\n",
    "# ZとYの相関関係を求める\n",
    "np.corrcoef(Z, Y)"
   ]
  },
  {
   "cell_type": "code",
   "execution_count": 6,
   "metadata": {},
   "outputs": [
    {
     "data": {
      "text/plain": [
       "<matplotlib.collections.PathCollection at 0x23d57745a08>"
      ]
     },
     "execution_count": 6,
     "metadata": {},
     "output_type": "execute_result"
    },
    {
     "data": {
      "image/png": "[encoded data removed]",
      "text/plain": [
       "<Figure size 432x288 with 1 Axes>"
      ]
     },
     "metadata": {
      "needs_background": "light"
     },
     "output_type": "display_data"
    }
   ],
   "source": [
    "# 標準化\n",
    "Z_std = scipy.stats.zscore(Z)\n",
    "Y_std = scipy.stats.zscore(Y)\n",
    "\n",
    "# 散布図を描画\n",
    "plt.scatter(Z_std,Y_std)"
   ]
  },
  {
   "cell_type": "markdown",
   "metadata": {},
   "source": [
    "横軸：Z、縦軸：Y  \n",
    "**因果関係が逆でも相関係数が大きい場合があり**、**データの見た目からは因果関係の向きを読み取れない**"
   ]
  },
  {
   "cell_type": "markdown",
   "metadata": {},
   "source": [
    "## 疑似相関：共通の原因"
   ]
  },
  {
   "cell_type": "code",
   "execution_count": 7,
   "metadata": {},
   "outputs": [
    {
     "data": {
      "text/plain": [
       "array([[1.        , 0.90572419],\n",
       "       [0.90572419, 1.        ]])"
      ]
     },
     "execution_count": 7,
     "metadata": {},
     "output_type": "execute_result"
    }
   ],
   "source": [
    "# ノイズを生成\n",
    "num_data = 200\n",
    "e_x = randn(num_data)\n",
    "e_y = randn(num_data)\n",
    "e_z = randn(num_data)\n",
    "\n",
    "# データの生成\n",
    "Z = 3.3*e_x + e_z\n",
    "Y = 3.3*e_x + e_y\n",
    "\n",
    "np.corrcoef(Z, Y)"
   ]
  },
  {
   "cell_type": "code",
   "execution_count": 8,
   "metadata": {},
   "outputs": [
    {
     "data": {
      "text/plain": [
       "<matplotlib.collections.PathCollection at 0x23d5aa17208>"
      ]
     },
     "execution_count": 8,
     "metadata": {},
     "output_type": "execute_result"
    },
    {
     "data": {
      "image/png": "[encoded data removed]",
      "text/plain": [
       "<Figure size 432x288 with 1 Axes>"
      ]
     },
     "metadata": {
      "needs_background": "light"
     },
     "output_type": "display_data"
    }
   ],
   "source": [
    "# 標準化\n",
    "Z2_std = scipy.stats.zscore(Z)\n",
    "Y2_std = scipy.stats.zscore(Y)\n",
    "\n",
    "# 散布図を描画\n",
    "plt.scatter(Z2_std,Y2_std)"
   ]
  },
  {
   "cell_type": "markdown",
   "metadata": {},
   "source": [
    "直接因果関係がなくても、共通変数がある場合には、間接的な因果関係が発生し、相関係数が大きくなる場合がある。\n",
    "\n",
    "**これもデータの描画からは読み取ることができない**"
   ]
  },
  {
   "cell_type": "markdown",
   "metadata": {},
   "source": [
    "## 疑似相関：合流地点での選抜"
   ]
  },
  {
   "cell_type": "code",
   "execution_count": 4,
   "metadata": {},
   "outputs": [
    {
     "data": {
      "text/plain": [
       "<matplotlib.collections.PathCollection at 0x2455e718bc8>"
      ]
     },
     "execution_count": 4,
     "metadata": {},
     "output_type": "execute_result"
    },
    {
     "data": {
      "image/png": "[encoded data removed]",
      "text/plain": [
       "<Figure size 432x288 with 1 Axes>"
      ]
     },
     "metadata": {
      "needs_background": "light"
     },
     "output_type": "display_data"
    }
   ],
   "source": [
    "# 選抜前のデータを作成し、描画\n",
    "\n",
    "# ノイズ\n",
    "num_data = 600\n",
    "e_x = randn(num_data)\n",
    "e_y = randn(num_data)\n",
    "\n",
    "# データの生成\n",
    "x = e_x\n",
    "y = e_y\n",
    "\n",
    "# 散布図を描画\n",
    "plt.scatter(x, y)"
   ]
  },
  {
   "cell_type": "markdown",
   "metadata": {},
   "source": [
    "散布図から相関係数がないことがわかる"
   ]
  },
  {
   "cell_type": "code",
   "execution_count": 5,
   "metadata": {},
   "outputs": [
    {
     "data": {
      "text/plain": [
       "array([[ 1.        , -0.00697605],\n",
       "       [-0.00697605,  1.        ]])"
      ]
     },
     "execution_count": 5,
     "metadata": {},
     "output_type": "execute_result"
    }
   ],
   "source": [
    "# 相関係数を求める\n",
    "np.corrcoef(x,y)"
   ]
  },
  {
   "cell_type": "code",
   "execution_count": 6,
   "metadata": {},
   "outputs": [
    {
     "data": {
      "text/plain": [
       "<matplotlib.collections.PathCollection at 0x2455e7303c8>"
      ]
     },
     "execution_count": 6,
     "metadata": {},
     "output_type": "execute_result"
    },
    {
     "data": {
      "image/png": "[encoded data removed]",
      "text/plain": [
       "<Figure size 432x288 with 1 Axes>"
      ]
     },
     "metadata": {
      "needs_background": "light"
     },
     "output_type": "display_data"
    }
   ],
   "source": [
    "# 合流点で選抜を行うプログラム\n",
    "\n",
    "# 合流点を作成\n",
    "Z = x+y\n",
    "\n",
    "# 新たなん合流点で条件を満たす変数の用意\n",
    "x_new = np.array([])\n",
    "y_new = np.array([])\n",
    "\n",
    "# Zの値が０以上で選抜してnew変数に追加する\n",
    "for i in range(num_data):\n",
    "    if Z[i] > 0.0:\n",
    "        x_new = np.append(x_new, x[i])\n",
    "        y_new = np.append(y_new, y[i])\n",
    "\n",
    "# 散布図\n",
    "plt.scatter(x_new, y_new)"
   ]
  },
  {
   "cell_type": "code",
   "execution_count": 7,
   "metadata": {},
   "outputs": [
    {
     "data": {
      "text/plain": [
       "array([[ 1.        , -0.45268717],\n",
       "       [-0.45268717,  1.        ]])"
      ]
     },
     "execution_count": 7,
     "metadata": {},
     "output_type": "execute_result"
    }
   ],
   "source": [
    "np.corrcoef(x_new, y_new)"
   ]
  },
  {
   "cell_type": "markdown",
   "metadata": {},
   "source": [
    "負の相関関係が見て取れる\n",
    "\n",
    "関係がない変数でも、$x+y=Z$で合流し、選抜される操作によって、直接関連がなくてもZを介して疑似相関が発生する\n"
   ]
  },
  {
   "cell_type": "code",
   "execution_count": null,
   "metadata": {},
   "outputs": [],
   "source": []
  }
 ],
 "metadata": {
  "kernelspec": {
   "display_name": "Python 3.7.9 ('.causal_book': venv)",
   "language": "python",
   "name": "python3"
  },
  "language_info": {
   "codemirror_mode": {
    "name": "ipython",
    "version": 3
   },
   "file_extension": ".py",
   "mimetype": "text/x-python",
   "name": "python",
   "nbconvert_exporter": "python",
   "pygments_lexer": "ipython3",
   "version": "3.7.9"
  },
  "orig_nbformat": 4,
  "vscode": {
   "interpreter": {
    "hash": "b4dd74e406ca7bb6ecf9955965395a8bcee78b2f8d50765754782230f950cf39"
   }
  }
 },
 "nbformat": 4,
 "nbformat_minor": 2
}
