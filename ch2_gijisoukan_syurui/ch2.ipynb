{
 "cells": [
  {
   "cell_type": "markdown",
   "metadata": {},
   "source": [
    "# 2章因果関係の種類を把握しよう\n",
    "## 2-1 反実仮想と様々な因果効果\n",
    "\n",
    "### 反実仮想\n",
    "実際の選択とは別の選択をしたケースを想定すること\n",
    "\n",
    "実際には起こっていない選択を考える\n",
    "\n",
    "### 潜在的結果変数\n",
    "* ある社員$i$ のキャリアの満足満足度を$Y^i$とする\n",
    "* $i$が講義を\n",
    "  * 受講した場合　　　　　: $Z^i=1$\n",
    "  * 受講しなかった場合　　： $Z^i=0$\n",
    "* $i$を受講したかは添え字で表現する\n",
    "  * 受講したときの満足度：$Y^i_1$\n",
    "  * 受講しなかったの満足度：$Y^i_0$\n",
    "* &rarr;**$Y^i_1とY^i_0$は同時に存在しない**、どちらかのみ存在\n",
    "* 変数\n",
    "  * 存在する結果を**結果変数**\n",
    "  * 存在しなかったケースの変数を**潜在的結果変数**と呼ぶ\n",
    "* 受講した場合\n",
    "    * 結果変数：$Y^i_1$\n",
    "    * 潜在的結果変数：$Y^i_0$\n",
    "\n",
    "\n",
    "### 個体レベルの因果効果\n",
    "個体の結果変数と潜在的結果変数の差$Y^i_1-Y^i_1$を使って個体レベルの因果効果(ITE: Individual Treatment Effect)、個体レベルの処置効果を表す"
   ]
  },
  {
   "cell_type": "markdown",
   "metadata": {},
   "source": []
  }
 ],
 "metadata": {
  "kernelspec": {
   "display_name": "Python 3.7.9 ('.causal_book': venv)",
   "language": "python",
   "name": "python3"
  },
  "language_info": {
   "name": "python",
   "version": "3.7.9"
  },
  "orig_nbformat": 4,
  "vscode": {
   "interpreter": {
    "hash": "b4dd74e406ca7bb6ecf9955965395a8bcee78b2f8d50765754782230f950cf39"
   }
  }
 },
 "nbformat": 4,
 "nbformat_minor": 2
}
